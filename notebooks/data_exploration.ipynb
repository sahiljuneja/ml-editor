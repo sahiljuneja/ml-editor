{
 "cells": [
  {
   "cell_type": "markdown",
   "metadata": {
    "collapsed": true
   },
   "source": [
    "# Analyzing Stackoverflow Data\n",
    "\n",
    "We will explore and analyze dataset containing questions from writers.stackoverflow.com. \n",
    "\n",
    "Downloaded `writers.stackexchange.com.7z` specifically from https://archive.org/details/stackexchange\n",
    "\n",
    "The schema documentation for the data can be found here for reference - https://meta.stackexchange.com/questions/2677/database-schema-documentation-for-the-public-data-dump-and-sede"
   ]
  },
  {
   "cell_type": "code",
   "execution_count": 1,
   "metadata": {},
   "outputs": [],
   "source": [
    "import sys\n",
    "sys.path.append('../')\n",
    "from ml_editor.data_ingestion import *\n",
    "import pandas as pd\n",
    "import numpy as np\n",
    "import matplotlib.pyplot as plt\n",
    "%matplotlib inline\n",
    "from IPython.display import display\n",
    "pd.set_option('display.max_rows', 70)\n",
    "pd.set_option('display.max_columns', 70)\n",
    "pd.set_option('display.max_colwidth', 100)"
   ]
  },
  {
   "cell_type": "markdown",
   "metadata": {
    "pycharm": {
     "name": "#%%\n"
    }
   },
   "source": [
    "## Download Data"
   ]
  },
  {
   "cell_type": "code",
   "execution_count": 2,
   "metadata": {},
   "outputs": [],
   "source": [
    "site = \"writers\"\n",
    "writers = get_data_from_dump(site)"
   ]
  },
  {
   "cell_type": "markdown",
   "metadata": {},
   "source": [
    "## EDA"
   ]
  },
  {
   "cell_type": "code",
   "execution_count": 3,
   "metadata": {},
   "outputs": [
    {
     "name": "stdout",
     "output_type": "stream",
     "text": [
      "<class 'pandas.core.frame.DataFrame'>\n",
      "RangeIndex: 41717 entries, 0 to 41716\n",
      "Data columns (total 24 columns):\n",
      "Unnamed: 0               41717 non-null int64\n",
      "Id                       41717 non-null int64\n",
      "PostTypeId               41717 non-null int64\n",
      "AcceptedAnswerId         4971 non-null float64\n",
      "CreationDate             41717 non-null object\n",
      "Score                    41717 non-null int64\n",
      "ViewCount                9674 non-null float64\n",
      "Body                     41631 non-null object\n",
      "OwnerUserId              38833 non-null float64\n",
      "LastEditorUserId         13033 non-null float64\n",
      "LastEditorDisplayName    985 non-null object\n",
      "LastEditDate             13941 non-null object\n",
      "LastActivityDate         41717 non-null object\n",
      "Title                    9674 non-null object\n",
      "Tags                     9674 non-null object\n",
      "AnswerCount              9674 non-null float64\n",
      "CommentCount             41717 non-null int64\n",
      "FavoriteCount            3981 non-null float64\n",
      "ClosedDate               1232 non-null object\n",
      "ContentLicense           41717 non-null object\n",
      "body_text                41631 non-null object\n",
      "ParentId                 31308 non-null float64\n",
      "CommunityOwnedDate       190 non-null object\n",
      "OwnerDisplayName         3319 non-null object\n",
      "dtypes: float64(7), int64(5), object(12)\n",
      "memory usage: 7.6+ MB\n"
     ]
    }
   ],
   "source": [
    "writers.info()"
   ]
  },
  {
   "cell_type": "markdown",
   "metadata": {},
   "source": [
    "More than 41K questions, but only ~9700 have answers."
   ]
  },
  {
   "cell_type": "code",
   "execution_count": 4,
   "metadata": {},
   "outputs": [
    {
     "data": {
      "text/html": [
       "<div>\n",
       "<style scoped>\n",
       "    .dataframe tbody tr th:only-of-type {\n",
       "        vertical-align: middle;\n",
       "    }\n",
       "\n",
       "    .dataframe tbody tr th {\n",
       "        vertical-align: top;\n",
       "    }\n",
       "\n",
       "    .dataframe thead th {\n",
       "        text-align: right;\n",
       "    }\n",
       "</style>\n",
       "<table border=\"1\" class=\"dataframe\">\n",
       "  <thead>\n",
       "    <tr style=\"text-align: right;\">\n",
       "      <th></th>\n",
       "      <th>Unnamed: 0</th>\n",
       "      <th>Id</th>\n",
       "      <th>PostTypeId</th>\n",
       "      <th>AcceptedAnswerId</th>\n",
       "      <th>CreationDate</th>\n",
       "      <th>Score</th>\n",
       "      <th>ViewCount</th>\n",
       "      <th>Body</th>\n",
       "      <th>OwnerUserId</th>\n",
       "      <th>LastEditorUserId</th>\n",
       "      <th>LastEditorDisplayName</th>\n",
       "      <th>LastEditDate</th>\n",
       "      <th>LastActivityDate</th>\n",
       "      <th>Title</th>\n",
       "      <th>Tags</th>\n",
       "      <th>AnswerCount</th>\n",
       "      <th>CommentCount</th>\n",
       "      <th>FavoriteCount</th>\n",
       "      <th>ClosedDate</th>\n",
       "      <th>ContentLicense</th>\n",
       "      <th>body_text</th>\n",
       "      <th>ParentId</th>\n",
       "      <th>CommunityOwnedDate</th>\n",
       "      <th>OwnerDisplayName</th>\n",
       "    </tr>\n",
       "  </thead>\n",
       "  <tbody>\n",
       "    <tr>\n",
       "      <th>11431</th>\n",
       "      <td>11431</td>\n",
       "      <td>16194</td>\n",
       "      <td>1</td>\n",
       "      <td>NaN</td>\n",
       "      <td>2015-02-11T21:36:56.037</td>\n",
       "      <td>2</td>\n",
       "      <td>119.0</td>\n",
       "      <td>&lt;p&gt;I am writing a story that has ten main characters, each chapter is a progression of the story...</td>\n",
       "      <td>590.0</td>\n",
       "      <td>NaN</td>\n",
       "      <td>NaN</td>\n",
       "      <td>NaN</td>\n",
       "      <td>2015-02-12T03:31:15.817</td>\n",
       "      <td>Writing in a character's voice. How deep should I go with immersion?</td>\n",
       "      <td>&lt;language&gt;&lt;narrative&gt;&lt;perspective&gt;</td>\n",
       "      <td>1.0</td>\n",
       "      <td>1</td>\n",
       "      <td>NaN</td>\n",
       "      <td>NaN</td>\n",
       "      <td>CC BY-SA 3.0</td>\n",
       "      <td>I am writing a story that has ten main characters, each chapter is a progression of the story bu...</td>\n",
       "      <td>NaN</td>\n",
       "      <td>NaN</td>\n",
       "      <td>NaN</td>\n",
       "    </tr>\n",
       "    <tr>\n",
       "      <th>13087</th>\n",
       "      <td>13087</td>\n",
       "      <td>18175</td>\n",
       "      <td>2</td>\n",
       "      <td>NaN</td>\n",
       "      <td>2015-07-13T12:03:34.027</td>\n",
       "      <td>0</td>\n",
       "      <td>NaN</td>\n",
       "      <td>&lt;p&gt;I like technical advice, which is odd considering I enjoy poetry and poetry is something whic...</td>\n",
       "      <td>14494.0</td>\n",
       "      <td>6268.0</td>\n",
       "      <td>NaN</td>\n",
       "      <td>2015-07-14T02:08:11.020</td>\n",
       "      <td>2015-07-14T02:08:11.020</td>\n",
       "      <td>NaN</td>\n",
       "      <td>NaN</td>\n",
       "      <td>NaN</td>\n",
       "      <td>0</td>\n",
       "      <td>NaN</td>\n",
       "      <td>NaN</td>\n",
       "      <td>CC BY-SA 3.0</td>\n",
       "      <td>I like technical advice, which is odd considering I enjoy poetry and poetry is something which o...</td>\n",
       "      <td>18172.0</td>\n",
       "      <td>NaN</td>\n",
       "      <td>NaN</td>\n",
       "    </tr>\n",
       "    <tr>\n",
       "      <th>7503</th>\n",
       "      <td>7503</td>\n",
       "      <td>8482</td>\n",
       "      <td>4</td>\n",
       "      <td>NaN</td>\n",
       "      <td>2013-07-24T02:22:24.207</td>\n",
       "      <td>0</td>\n",
       "      <td>NaN</td>\n",
       "      <td>Application programming interfaces (APIs) are software interfaces that expose defined functional...</td>\n",
       "      <td>1993.0</td>\n",
       "      <td>1993.0</td>\n",
       "      <td>NaN</td>\n",
       "      <td>2013-07-24T02:22:24.207</td>\n",
       "      <td>2013-07-24T02:22:24.207</td>\n",
       "      <td>NaN</td>\n",
       "      <td>NaN</td>\n",
       "      <td>NaN</td>\n",
       "      <td>0</td>\n",
       "      <td>NaN</td>\n",
       "      <td>NaN</td>\n",
       "      <td>CC BY-SA 3.0</td>\n",
       "      <td>Application programming interfaces (APIs) are software interfaces that expose defined functional...</td>\n",
       "      <td>NaN</td>\n",
       "      <td>NaN</td>\n",
       "      <td>NaN</td>\n",
       "    </tr>\n",
       "    <tr>\n",
       "      <th>8550</th>\n",
       "      <td>8550</td>\n",
       "      <td>9715</td>\n",
       "      <td>2</td>\n",
       "      <td>NaN</td>\n",
       "      <td>2013-12-13T20:09:06.050</td>\n",
       "      <td>1</td>\n",
       "      <td>NaN</td>\n",
       "      <td>&lt;p&gt;Several possibilities:&lt;/p&gt;\\n\\n&lt;p&gt;1) Your (second set of?) questions turned out to be more tim...</td>\n",
       "      <td>5956.0</td>\n",
       "      <td>NaN</td>\n",
       "      <td>NaN</td>\n",
       "      <td>NaN</td>\n",
       "      <td>2013-12-13T20:09:06.050</td>\n",
       "      <td>NaN</td>\n",
       "      <td>NaN</td>\n",
       "      <td>NaN</td>\n",
       "      <td>0</td>\n",
       "      <td>NaN</td>\n",
       "      <td>NaN</td>\n",
       "      <td>CC BY-SA 3.0</td>\n",
       "      <td>Several possibilities:\\n1) Your (second set of?) questions turned out to be more time-consuming ...</td>\n",
       "      <td>9706.0</td>\n",
       "      <td>NaN</td>\n",
       "      <td>NaN</td>\n",
       "    </tr>\n",
       "    <tr>\n",
       "      <th>22420</th>\n",
       "      <td>22420</td>\n",
       "      <td>29858</td>\n",
       "      <td>1</td>\n",
       "      <td>29862.0</td>\n",
       "      <td>2017-08-21T18:03:45.543</td>\n",
       "      <td>48</td>\n",
       "      <td>13139.0</td>\n",
       "      <td>&lt;p&gt;I'm new here, so, please, bear with me.&lt;/p&gt;\\n\\n&lt;p&gt;I had a look at previous answers to similar...</td>\n",
       "      <td>25977.0</td>\n",
       "      <td>-1.0</td>\n",
       "      <td>NaN</td>\n",
       "      <td>2017-08-22T06:45:58.447</td>\n",
       "      <td>2017-08-24T11:11:47.943</td>\n",
       "      <td>I wrote a novel, now what?</td>\n",
       "      <td>&lt;publishing&gt;&lt;novel&gt;&lt;editing&gt;&lt;fantasy&gt;&lt;science-fiction&gt;</td>\n",
       "      <td>10.0</td>\n",
       "      <td>14</td>\n",
       "      <td>16.0</td>\n",
       "      <td>NaN</td>\n",
       "      <td>CC BY-SA 3.0</td>\n",
       "      <td>I'm new here, so, please, bear with me.\\nI had a look at previous answers to similar questions, ...</td>\n",
       "      <td>NaN</td>\n",
       "      <td>NaN</td>\n",
       "      <td>NaN</td>\n",
       "    </tr>\n",
       "  </tbody>\n",
       "</table>\n",
       "</div>"
      ],
      "text/plain": [
       "       Unnamed: 0     Id  PostTypeId  AcceptedAnswerId  \\\n",
       "11431       11431  16194           1               NaN   \n",
       "13087       13087  18175           2               NaN   \n",
       "7503         7503   8482           4               NaN   \n",
       "8550         8550   9715           2               NaN   \n",
       "22420       22420  29858           1           29862.0   \n",
       "\n",
       "                  CreationDate  Score  ViewCount  \\\n",
       "11431  2015-02-11T21:36:56.037      2      119.0   \n",
       "13087  2015-07-13T12:03:34.027      0        NaN   \n",
       "7503   2013-07-24T02:22:24.207      0        NaN   \n",
       "8550   2013-12-13T20:09:06.050      1        NaN   \n",
       "22420  2017-08-21T18:03:45.543     48    13139.0   \n",
       "\n",
       "                                                                                                      Body  \\\n",
       "11431  <p>I am writing a story that has ten main characters, each chapter is a progression of the story...   \n",
       "13087  <p>I like technical advice, which is odd considering I enjoy poetry and poetry is something whic...   \n",
       "7503   Application programming interfaces (APIs) are software interfaces that expose defined functional...   \n",
       "8550   <p>Several possibilities:</p>\\n\\n<p>1) Your (second set of?) questions turned out to be more tim...   \n",
       "22420  <p>I'm new here, so, please, bear with me.</p>\\n\\n<p>I had a look at previous answers to similar...   \n",
       "\n",
       "       OwnerUserId  LastEditorUserId LastEditorDisplayName  \\\n",
       "11431        590.0               NaN                   NaN   \n",
       "13087      14494.0            6268.0                   NaN   \n",
       "7503        1993.0            1993.0                   NaN   \n",
       "8550        5956.0               NaN                   NaN   \n",
       "22420      25977.0              -1.0                   NaN   \n",
       "\n",
       "                  LastEditDate         LastActivityDate  \\\n",
       "11431                      NaN  2015-02-12T03:31:15.817   \n",
       "13087  2015-07-14T02:08:11.020  2015-07-14T02:08:11.020   \n",
       "7503   2013-07-24T02:22:24.207  2013-07-24T02:22:24.207   \n",
       "8550                       NaN  2013-12-13T20:09:06.050   \n",
       "22420  2017-08-22T06:45:58.447  2017-08-24T11:11:47.943   \n",
       "\n",
       "                                                                      Title  \\\n",
       "11431  Writing in a character's voice. How deep should I go with immersion?   \n",
       "13087                                                                   NaN   \n",
       "7503                                                                    NaN   \n",
       "8550                                                                    NaN   \n",
       "22420                                            I wrote a novel, now what?   \n",
       "\n",
       "                                                         Tags  AnswerCount  \\\n",
       "11431                      <language><narrative><perspective>          1.0   \n",
       "13087                                                     NaN          NaN   \n",
       "7503                                                      NaN          NaN   \n",
       "8550                                                      NaN          NaN   \n",
       "22420  <publishing><novel><editing><fantasy><science-fiction>         10.0   \n",
       "\n",
       "       CommentCount  FavoriteCount ClosedDate ContentLicense  \\\n",
       "11431             1            NaN        NaN   CC BY-SA 3.0   \n",
       "13087             0            NaN        NaN   CC BY-SA 3.0   \n",
       "7503              0            NaN        NaN   CC BY-SA 3.0   \n",
       "8550              0            NaN        NaN   CC BY-SA 3.0   \n",
       "22420            14           16.0        NaN   CC BY-SA 3.0   \n",
       "\n",
       "                                                                                                 body_text  \\\n",
       "11431  I am writing a story that has ten main characters, each chapter is a progression of the story bu...   \n",
       "13087  I like technical advice, which is odd considering I enjoy poetry and poetry is something which o...   \n",
       "7503   Application programming interfaces (APIs) are software interfaces that expose defined functional...   \n",
       "8550   Several possibilities:\\n1) Your (second set of?) questions turned out to be more time-consuming ...   \n",
       "22420  I'm new here, so, please, bear with me.\\nI had a look at previous answers to similar questions, ...   \n",
       "\n",
       "       ParentId CommunityOwnedDate OwnerDisplayName  \n",
       "11431       NaN                NaN              NaN  \n",
       "13087   18172.0                NaN              NaN  \n",
       "7503        NaN                NaN              NaN  \n",
       "8550     9706.0                NaN              NaN  \n",
       "22420       NaN                NaN              NaN  "
      ]
     },
     "execution_count": 4,
     "metadata": {},
     "output_type": "execute_result"
    }
   ],
   "source": [
    "writers.sample(5)"
   ]
  },
  {
   "cell_type": "code",
   "execution_count": 5,
   "metadata": {},
   "outputs": [
    {
     "data": {
      "text/plain": [
       "5679      137.0\n",
       "24586     493.0\n",
       "466      1783.0\n",
       "21542      67.0\n",
       "33934     265.0\n",
       "Name: ViewCount, dtype: float64"
      ]
     },
     "execution_count": 5,
     "metadata": {},
     "output_type": "execute_result"
    }
   ],
   "source": [
    "writers[writers[\"ViewCount\"].notnull()][\"ViewCount\"].sample(5)"
   ]
  },
  {
   "cell_type": "code",
   "execution_count": 6,
   "metadata": {},
   "outputs": [
    {
     "data": {
      "text/plain": [
       "24135                                                                               What is a DF manuscript?\n",
       "3459                                                             All persons fictitious - where to place it?\n",
       "9344     Does self publishing via Amazon or similar services make your book ineligible for later acceptan...\n",
       "11834                                                       What is the main inner conflict in Harry Potter?\n",
       "5643                                                Which language to use when writing a multinational story\n",
       "Name: Title, dtype: object"
      ]
     },
     "execution_count": 6,
     "metadata": {},
     "output_type": "execute_result"
    }
   ],
   "source": [
    "notnull_titles = writers[writers[\"Title\"].notnull()][\"Title\"]\n",
    "notnull_titles.sample(5)"
   ]
  },
  {
   "cell_type": "code",
   "execution_count": 8,
   "metadata": {},
   "outputs": [
    {
     "name": "stdout",
     "output_type": "stream",
     "text": [
      "(175,)\n"
     ]
    },
    {
     "data": {
      "text/plain": [
       "21783       Daily Word Count\n",
       "15218    Title already taken\n",
       "12477       Renting my book?\n",
       "26045      Writing diversity\n",
       "15472     A ballad or prose?\n",
       "Name: Title, dtype: object"
      ]
     },
     "execution_count": 8,
     "metadata": {},
     "output_type": "execute_result"
    }
   ],
   "source": [
    "short_titles = notnull_titles[notnull_titles.str.len() < 20]\n",
    "print(short_titles.shape)\n",
    "short_titles.sample(5)"
   ]
  },
  {
   "cell_type": "code",
   "execution_count": 9,
   "metadata": {},
   "outputs": [
    {
     "name": "stdout",
     "output_type": "stream",
     "text": [
      "(1,)\n"
     ]
    },
    {
     "data": {
      "text/plain": [
       "3375    \\n\n",
       "Name: body_text, dtype: object"
      ]
     },
     "execution_count": 9,
     "metadata": {},
     "output_type": "execute_result"
    }
   ],
   "source": [
    "no_body_text = writers[writers[\"body_text\"].str.len() < 15][\"body_text\"]\n",
    "print(no_body_text.shape)\n",
    "no_body_text.sort_values(ascending=False).head(4)"
   ]
  },
  {
   "cell_type": "code",
   "execution_count": 10,
   "metadata": {},
   "outputs": [
    {
     "name": "stdout",
     "output_type": "stream",
     "text": [
      "(41630,)\n"
     ]
    },
    {
     "data": {
      "text/plain": [
       "17600    “Where do you get your inspiration?” \\nThis is an often hated, and feared, Q author’s get. Their...\n",
       "8343     “Out, Out—” has its morbid description of a young boy bleeding out and its underlying theme of d...\n",
       "24097    “One should try to invite people from this world to eternity, from sin to obedience, from greedi...\n",
       "10069    “If once a man indulges himself in murder, very soon he comes to think little of robbing; and fr...\n",
       "Name: body_text, dtype: object"
      ]
     },
     "execution_count": 10,
     "metadata": {},
     "output_type": "execute_result"
    }
   ],
   "source": [
    "body_text = writers[writers[\"body_text\"].str.len() > 15][\"body_text\"]\n",
    "print(body_text.shape)\n",
    "body_text.sort_values(ascending=False).head(4)"
   ]
  },
  {
   "cell_type": "code",
   "execution_count": 11,
   "metadata": {},
   "outputs": [
    {
     "name": "stdout",
     "output_type": "stream",
     "text": [
      "(53,)\n"
     ]
    },
    {
     "data": {
      "text/plain": [
       "2523       what about\\n\\nInformation IS Power\\n\\n\n",
       "30953    it's called \"as if told\" first person.\\n\n",
       "2452                 help! I need somebody, help!\n",
       "2658         You can write however you want to.\\n\n",
       "Name: body_text, dtype: object"
      ]
     },
     "execution_count": 11,
     "metadata": {},
     "output_type": "execute_result"
    }
   ],
   "source": [
    "short_body_text = writers[(writers[\"body_text\"].str.len() > 15) & (writers[\"body_text\"].str.len() < 40)][\"body_text\"]\n",
    "print(short_body_text.shape)\n",
    "short_body_text.sort_values(ascending=False).head(4)"
   ]
  },
  {
   "cell_type": "markdown",
   "metadata": {},
   "source": [
    "The dataset has 41717 posts. Some initial observations:\n",
    "\n",
    "- As per `AcceptedAnswerId` a significant number of those questions have no accepted answers\n",
    "- A significant number have not been viewed either (or there was no data for those posts). \n",
    "- Very few have a title, but all of them have some body text. This doesn't seem right. Shouldn't all posts have titles?\n",
    "\n",
    "Let's explore a bit more and start cleaning up the data too"
   ]
  },
  {
   "cell_type": "markdown",
   "metadata": {},
   "source": [
    "## Data Cleaning"
   ]
  },
  {
   "cell_type": "code",
   "execution_count": 12,
   "metadata": {},
   "outputs": [
    {
     "name": "stdout",
     "output_type": "stream",
     "text": [
      "<class 'pandas.core.frame.DataFrame'>\n",
      "RangeIndex: 41717 entries, 0 to 41716\n",
      "Data columns (total 24 columns):\n",
      "Unnamed: 0               41717 non-null int64\n",
      "Id                       41717 non-null int64\n",
      "PostTypeId               41717 non-null int64\n",
      "AcceptedAnswerId         4971 non-null float64\n",
      "CreationDate             41717 non-null object\n",
      "Score                    41717 non-null int64\n",
      "ViewCount                9674 non-null float64\n",
      "Body                     41631 non-null object\n",
      "OwnerUserId              38833 non-null float64\n",
      "LastEditorUserId         13033 non-null float64\n",
      "LastEditorDisplayName    985 non-null object\n",
      "LastEditDate             13941 non-null object\n",
      "LastActivityDate         41717 non-null object\n",
      "Title                    9674 non-null object\n",
      "Tags                     9674 non-null object\n",
      "AnswerCount              9674 non-null float64\n",
      "CommentCount             41717 non-null int64\n",
      "FavoriteCount            3981 non-null float64\n",
      "ClosedDate               1232 non-null object\n",
      "ContentLicense           41717 non-null object\n",
      "body_text                41631 non-null object\n",
      "ParentId                 31308 non-null float64\n",
      "CommunityOwnedDate       190 non-null object\n",
      "OwnerDisplayName         3319 non-null object\n",
      "dtypes: float64(7), int64(5), object(12)\n",
      "memory usage: 7.6+ MB\n"
     ]
    }
   ],
   "source": [
    "writers.info()"
   ]
  },
  {
   "cell_type": "code",
   "execution_count": 13,
   "metadata": {},
   "outputs": [
    {
     "data": {
      "text/plain": [
       "2    31308\n",
       "1     9674\n",
       "5      363\n",
       "4      363\n",
       "7        4\n",
       "6        3\n",
       "3        2\n",
       "Name: PostTypeId, dtype: int64"
      ]
     },
     "execution_count": 13,
     "metadata": {},
     "output_type": "execute_result"
    }
   ],
   "source": [
    "writers[\"PostTypeId\"].value_counts()"
   ]
  },
  {
   "cell_type": "markdown",
   "metadata": {},
   "source": [
    "As per the schema, `1` corresponds to a question, whereas `2` courresponds to answers. This would explain the discrepancy between the number of rows of `Title` and `body_text`.\n",
    "\n",
    "Since we are only focusing on questions and answers, we will remove data corresponding to the rest of the Ids."
   ]
  },
  {
   "cell_type": "code",
   "execution_count": 14,
   "metadata": {},
   "outputs": [
    {
     "name": "stdout",
     "output_type": "stream",
     "text": [
      "<class 'pandas.core.frame.DataFrame'>\n",
      "Int64Index: 40982 entries, 0 to 41716\n",
      "Data columns (total 24 columns):\n",
      "Unnamed: 0               40982 non-null int64\n",
      "Id                       40982 non-null int64\n",
      "PostTypeId               40982 non-null int64\n",
      "AcceptedAnswerId         4971 non-null float64\n",
      "CreationDate             40982 non-null object\n",
      "Score                    40982 non-null int64\n",
      "ViewCount                9674 non-null float64\n",
      "Body                     40982 non-null object\n",
      "OwnerUserId              38103 non-null float64\n",
      "LastEditorUserId         12305 non-null float64\n",
      "LastEditorDisplayName    977 non-null object\n",
      "LastEditDate             13206 non-null object\n",
      "LastActivityDate         40982 non-null object\n",
      "Title                    9674 non-null object\n",
      "Tags                     9674 non-null object\n",
      "AnswerCount              9674 non-null float64\n",
      "CommentCount             40982 non-null int64\n",
      "FavoriteCount            3981 non-null float64\n",
      "ClosedDate               1232 non-null object\n",
      "ContentLicense           40982 non-null object\n",
      "body_text                40982 non-null object\n",
      "ParentId                 31308 non-null float64\n",
      "CommunityOwnedDate       187 non-null object\n",
      "OwnerDisplayName         3314 non-null object\n",
      "dtypes: float64(7), int64(5), object(12)\n",
      "memory usage: 7.8+ MB\n"
     ]
    }
   ],
   "source": [
    "writers_clean = writers[writers[\"PostTypeId\"].isin([1,2])]\n",
    "\n",
    "writers_clean.info()"
   ]
  },
  {
   "cell_type": "markdown",
   "metadata": {},
   "source": [
    "We will start with a weak metric of assuming that a question's score relates to the quality of the question, and using this we will see which type of questions receive high scores.\n",
    "\n",
    "First, we will match questions to their answers. We will roughly judge the quality of the text based on how well the accepted answers match the questions, for at least some of them."
   ]
  },
  {
   "cell_type": "code",
   "execution_count": null,
   "metadata": {},
   "outputs": [],
   "source": [
    "questions_with_accepted_answers = writers_clean[]"
   ]
  }
 ],
 "metadata": {
  "kernelspec": {
   "display_name": "Python 3",
   "language": "python",
   "name": "python3"
  },
  "language_info": {
   "codemirror_mode": {
    "name": "ipython",
    "version": 3
   },
   "file_extension": ".py",
   "mimetype": "text/x-python",
   "name": "python",
   "nbconvert_exporter": "python",
   "pygments_lexer": "ipython3",
   "version": "3.7.3"
  },
  "widgets": {
   "state": {},
   "version": "1.1.2"
  }
 },
 "nbformat": 4,
 "nbformat_minor": 1
}
