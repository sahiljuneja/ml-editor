{
 "cells": [
  {
   "cell_type": "markdown",
   "metadata": {
    "collapsed": true
   },
   "source": [
    "# Analyzing Stackoverflow Data\n",
    "\n",
    "We will explore and analyze dataset containing questions from writers.stackoverflow.com. \n",
    "\n",
    "Downloaded `writers.stackexchange.com.7z` specifically from https://archive.org/details/stackexchange"
   ]
  },
  {
   "cell_type": "code",
   "execution_count": 114,
   "metadata": {},
   "outputs": [],
   "source": [
    "import sys\n",
    "sys.path.append('../')\n",
    "from ml_editor.data_ingestion import *\n",
    "import pandas as pd\n",
    "import numpy as np\n",
    "import matplotlib.pyplot as plt\n",
    "%matplotlib inline\n",
    "from IPython.display import display\n",
    "pd.set_option('display.max_rows', 70)\n",
    "pd.set_option('display.max_columns', 70)\n",
    "pd.set_option('display.max_colwidth', 100)"
   ]
  },
  {
   "cell_type": "markdown",
   "metadata": {
    "pycharm": {
     "name": "#%%\n"
    }
   },
   "source": [
    "## Download Data"
   ]
  },
  {
   "cell_type": "code",
   "execution_count": 2,
   "metadata": {},
   "outputs": [
    {
     "name": "stderr",
     "output_type": "stream",
     "text": [
      "100%|████████████████████████████████████████████████████████████████████████████████████████████████████████████████████████████████████████████████████████| 41717/41717 [00:32<00:00, 1265.54it/s]\n"
     ]
    }
   ],
   "source": [
    "site = \"writers\"\n",
    "writers = get_data_from_dump(site)"
   ]
  },
  {
   "cell_type": "markdown",
   "metadata": {},
   "source": [
    "## EDA"
   ]
  },
  {
   "cell_type": "code",
   "execution_count": 5,
   "metadata": {},
   "outputs": [
    {
     "name": "stdout",
     "output_type": "stream",
     "text": [
      "<class 'pandas.core.frame.DataFrame'>\n",
      "RangeIndex: 41717 entries, 0 to 41716\n",
      "Data columns (total 23 columns):\n",
      "Id                       41717 non-null object\n",
      "PostTypeId               41717 non-null object\n",
      "AcceptedAnswerId         4971 non-null object\n",
      "CreationDate             41717 non-null object\n",
      "Score                    41717 non-null object\n",
      "ViewCount                9674 non-null object\n",
      "Body                     41717 non-null object\n",
      "OwnerUserId              38833 non-null object\n",
      "LastEditorUserId         13033 non-null object\n",
      "LastEditorDisplayName    985 non-null object\n",
      "LastEditDate             13941 non-null object\n",
      "LastActivityDate         41717 non-null object\n",
      "Title                    9674 non-null object\n",
      "Tags                     9674 non-null object\n",
      "AnswerCount              9674 non-null object\n",
      "CommentCount             41717 non-null object\n",
      "FavoriteCount            3981 non-null object\n",
      "ClosedDate               1232 non-null object\n",
      "ContentLicense           41717 non-null object\n",
      "body_text                41717 non-null object\n",
      "ParentId                 31308 non-null object\n",
      "CommunityOwnedDate       190 non-null object\n",
      "OwnerDisplayName         3319 non-null object\n",
      "dtypes: object(23)\n",
      "memory usage: 7.3+ MB\n"
     ]
    }
   ],
   "source": [
    "writers.info()"
   ]
  },
  {
   "cell_type": "code",
   "execution_count": 11,
   "metadata": {},
   "outputs": [
    {
     "data": {
      "text/html": [
       "<div>\n",
       "<style scoped>\n",
       "    .dataframe tbody tr th:only-of-type {\n",
       "        vertical-align: middle;\n",
       "    }\n",
       "\n",
       "    .dataframe tbody tr th {\n",
       "        vertical-align: top;\n",
       "    }\n",
       "\n",
       "    .dataframe thead th {\n",
       "        text-align: right;\n",
       "    }\n",
       "</style>\n",
       "<table border=\"1\" class=\"dataframe\">\n",
       "  <thead>\n",
       "    <tr style=\"text-align: right;\">\n",
       "      <th></th>\n",
       "      <th>Id</th>\n",
       "      <th>PostTypeId</th>\n",
       "      <th>AcceptedAnswerId</th>\n",
       "      <th>CreationDate</th>\n",
       "      <th>Score</th>\n",
       "      <th>ViewCount</th>\n",
       "      <th>Body</th>\n",
       "      <th>OwnerUserId</th>\n",
       "      <th>LastEditorUserId</th>\n",
       "      <th>LastEditorDisplayName</th>\n",
       "      <th>LastEditDate</th>\n",
       "      <th>LastActivityDate</th>\n",
       "      <th>Title</th>\n",
       "      <th>Tags</th>\n",
       "      <th>AnswerCount</th>\n",
       "      <th>CommentCount</th>\n",
       "      <th>FavoriteCount</th>\n",
       "      <th>ClosedDate</th>\n",
       "      <th>ContentLicense</th>\n",
       "      <th>body_text</th>\n",
       "      <th>ParentId</th>\n",
       "      <th>CommunityOwnedDate</th>\n",
       "      <th>OwnerDisplayName</th>\n",
       "    </tr>\n",
       "  </thead>\n",
       "  <tbody>\n",
       "    <tr>\n",
       "      <th>24739</th>\n",
       "      <td>32428</td>\n",
       "      <td>2</td>\n",
       "      <td>NaN</td>\n",
       "      <td>2018-01-09T20:54:43.880</td>\n",
       "      <td>9</td>\n",
       "      <td>NaN</td>\n",
       "      <td>&lt;p&gt;If I were writing, they would have to be su...</td>\n",
       "      <td>26047</td>\n",
       "      <td>NaN</td>\n",
       "      <td>NaN</td>\n",
       "      <td>NaN</td>\n",
       "      <td>2018-01-09T20:54:43.880</td>\n",
       "      <td>NaN</td>\n",
       "      <td>NaN</td>\n",
       "      <td>NaN</td>\n",
       "      <td>0</td>\n",
       "      <td>NaN</td>\n",
       "      <td>NaN</td>\n",
       "      <td>CC BY-SA 3.0</td>\n",
       "      <td>If I were writing, they would have to be suspi...</td>\n",
       "      <td>32427</td>\n",
       "      <td>NaN</td>\n",
       "      <td>NaN</td>\n",
       "    </tr>\n",
       "    <tr>\n",
       "      <th>31631</th>\n",
       "      <td>39894</td>\n",
       "      <td>2</td>\n",
       "      <td>NaN</td>\n",
       "      <td>2018-11-05T11:25:31.050</td>\n",
       "      <td>2</td>\n",
       "      <td>NaN</td>\n",
       "      <td>&lt;p&gt;I would think that any age is ok - I'm thin...</td>\n",
       "      <td>33873</td>\n",
       "      <td>NaN</td>\n",
       "      <td>NaN</td>\n",
       "      <td>NaN</td>\n",
       "      <td>2018-11-05T11:25:31.050</td>\n",
       "      <td>NaN</td>\n",
       "      <td>NaN</td>\n",
       "      <td>NaN</td>\n",
       "      <td>0</td>\n",
       "      <td>NaN</td>\n",
       "      <td>NaN</td>\n",
       "      <td>CC BY-SA 4.0</td>\n",
       "      <td>I would think that any age is ok - I'm thinkin...</td>\n",
       "      <td>39841</td>\n",
       "      <td>NaN</td>\n",
       "      <td>NaN</td>\n",
       "    </tr>\n",
       "    <tr>\n",
       "      <th>7846</th>\n",
       "      <td>8887</td>\n",
       "      <td>2</td>\n",
       "      <td>NaN</td>\n",
       "      <td>2013-09-12T22:17:28.880</td>\n",
       "      <td>9</td>\n",
       "      <td>NaN</td>\n",
       "      <td>&lt;p&gt;The name on the book is a brand name. It's ...</td>\n",
       "      <td>272</td>\n",
       "      <td>272</td>\n",
       "      <td>NaN</td>\n",
       "      <td>2013-09-12T22:31:16.073</td>\n",
       "      <td>2013-09-12T22:31:16.073</td>\n",
       "      <td>NaN</td>\n",
       "      <td>NaN</td>\n",
       "      <td>NaN</td>\n",
       "      <td>0</td>\n",
       "      <td>NaN</td>\n",
       "      <td>NaN</td>\n",
       "      <td>CC BY-SA 3.0</td>\n",
       "      <td>The name on the book is a brand name. It's a s...</td>\n",
       "      <td>8880</td>\n",
       "      <td>NaN</td>\n",
       "      <td>NaN</td>\n",
       "    </tr>\n",
       "    <tr>\n",
       "      <th>22500</th>\n",
       "      <td>29950</td>\n",
       "      <td>1</td>\n",
       "      <td>29959</td>\n",
       "      <td>2017-08-28T15:05:53.993</td>\n",
       "      <td>18</td>\n",
       "      <td>4964</td>\n",
       "      <td>&lt;p&gt;I'm currently writing a tale with two prota...</td>\n",
       "      <td>10394</td>\n",
       "      <td>10394</td>\n",
       "      <td>NaN</td>\n",
       "      <td>2017-08-28T16:16:44.223</td>\n",
       "      <td>2017-09-09T10:09:30.327</td>\n",
       "      <td>Two protagonists where one is dark - a mistake?</td>\n",
       "      <td>&lt;characters&gt;&lt;readers&gt;&lt;protagonist&gt;</td>\n",
       "      <td>6</td>\n",
       "      <td>11</td>\n",
       "      <td>2</td>\n",
       "      <td>NaN</td>\n",
       "      <td>CC BY-SA 3.0</td>\n",
       "      <td>I'm currently writing a tale with two protagon...</td>\n",
       "      <td>NaN</td>\n",
       "      <td>NaN</td>\n",
       "      <td>NaN</td>\n",
       "    </tr>\n",
       "    <tr>\n",
       "      <th>20266</th>\n",
       "      <td>27453</td>\n",
       "      <td>2</td>\n",
       "      <td>NaN</td>\n",
       "      <td>2017-04-04T17:49:11.817</td>\n",
       "      <td>1</td>\n",
       "      <td>NaN</td>\n",
       "      <td>&lt;p&gt;I face this issue a lot. I used to worry ab...</td>\n",
       "      <td>7968</td>\n",
       "      <td>NaN</td>\n",
       "      <td>NaN</td>\n",
       "      <td>NaN</td>\n",
       "      <td>2017-04-04T17:49:11.817</td>\n",
       "      <td>NaN</td>\n",
       "      <td>NaN</td>\n",
       "      <td>NaN</td>\n",
       "      <td>0</td>\n",
       "      <td>NaN</td>\n",
       "      <td>NaN</td>\n",
       "      <td>CC BY-SA 3.0</td>\n",
       "      <td>I face this issue a lot. I used to worry about...</td>\n",
       "      <td>27444</td>\n",
       "      <td>NaN</td>\n",
       "      <td>NaN</td>\n",
       "    </tr>\n",
       "  </tbody>\n",
       "</table>\n",
       "</div>"
      ],
      "text/plain": [
       "          Id PostTypeId AcceptedAnswerId             CreationDate Score  \\\n",
       "24739  32428          2              NaN  2018-01-09T20:54:43.880     9   \n",
       "31631  39894          2              NaN  2018-11-05T11:25:31.050     2   \n",
       "7846    8887          2              NaN  2013-09-12T22:17:28.880     9   \n",
       "22500  29950          1            29959  2017-08-28T15:05:53.993    18   \n",
       "20266  27453          2              NaN  2017-04-04T17:49:11.817     1   \n",
       "\n",
       "      ViewCount                                               Body  \\\n",
       "24739       NaN  <p>If I were writing, they would have to be su...   \n",
       "31631       NaN  <p>I would think that any age is ok - I'm thin...   \n",
       "7846        NaN  <p>The name on the book is a brand name. It's ...   \n",
       "22500      4964  <p>I'm currently writing a tale with two prota...   \n",
       "20266       NaN  <p>I face this issue a lot. I used to worry ab...   \n",
       "\n",
       "      OwnerUserId LastEditorUserId LastEditorDisplayName  \\\n",
       "24739       26047              NaN                   NaN   \n",
       "31631       33873              NaN                   NaN   \n",
       "7846          272              272                   NaN   \n",
       "22500       10394            10394                   NaN   \n",
       "20266        7968              NaN                   NaN   \n",
       "\n",
       "                  LastEditDate         LastActivityDate  \\\n",
       "24739                      NaN  2018-01-09T20:54:43.880   \n",
       "31631                      NaN  2018-11-05T11:25:31.050   \n",
       "7846   2013-09-12T22:31:16.073  2013-09-12T22:31:16.073   \n",
       "22500  2017-08-28T16:16:44.223  2017-09-09T10:09:30.327   \n",
       "20266                      NaN  2017-04-04T17:49:11.817   \n",
       "\n",
       "                                                 Title  \\\n",
       "24739                                              NaN   \n",
       "31631                                              NaN   \n",
       "7846                                               NaN   \n",
       "22500  Two protagonists where one is dark - a mistake?   \n",
       "20266                                              NaN   \n",
       "\n",
       "                                     Tags AnswerCount CommentCount  \\\n",
       "24739                                 NaN         NaN            0   \n",
       "31631                                 NaN         NaN            0   \n",
       "7846                                  NaN         NaN            0   \n",
       "22500  <characters><readers><protagonist>           6           11   \n",
       "20266                                 NaN         NaN            0   \n",
       "\n",
       "      FavoriteCount ClosedDate ContentLicense  \\\n",
       "24739           NaN        NaN   CC BY-SA 3.0   \n",
       "31631           NaN        NaN   CC BY-SA 4.0   \n",
       "7846            NaN        NaN   CC BY-SA 3.0   \n",
       "22500             2        NaN   CC BY-SA 3.0   \n",
       "20266           NaN        NaN   CC BY-SA 3.0   \n",
       "\n",
       "                                               body_text ParentId  \\\n",
       "24739  If I were writing, they would have to be suspi...    32427   \n",
       "31631  I would think that any age is ok - I'm thinkin...    39841   \n",
       "7846   The name on the book is a brand name. It's a s...     8880   \n",
       "22500  I'm currently writing a tale with two protagon...      NaN   \n",
       "20266  I face this issue a lot. I used to worry about...    27444   \n",
       "\n",
       "      CommunityOwnedDate OwnerDisplayName  \n",
       "24739                NaN              NaN  \n",
       "31631                NaN              NaN  \n",
       "7846                 NaN              NaN  \n",
       "22500                NaN              NaN  \n",
       "20266                NaN              NaN  "
      ]
     },
     "execution_count": 11,
     "metadata": {},
     "output_type": "execute_result"
    }
   ],
   "source": [
    "writers.sample(5)"
   ]
  },
  {
   "cell_type": "code",
   "execution_count": 15,
   "metadata": {},
   "outputs": [
    {
     "data": {
      "text/plain": [
       "26787      50\n",
       "15287    6885\n",
       "7362     7060\n",
       "29045     410\n",
       "11979     171\n",
       "Name: ViewCount, dtype: object"
      ]
     },
     "execution_count": 15,
     "metadata": {},
     "output_type": "execute_result"
    }
   ],
   "source": [
    "writers[writers[\"ViewCount\"].notnull()][\"ViewCount\"].sample(5)"
   ]
  },
  {
   "cell_type": "code",
   "execution_count": 90,
   "metadata": {},
   "outputs": [
    {
     "data": {
      "text/plain": [
       "17429    When Showing Over Telling Becomes Too Extravagant\n",
       "39675            Will too many characters be overwhelming?\n",
       "19390         How to show a brief hesitation around a word\n",
       "28696    Do readers not like a book if it's too dark an...\n",
       "34118    Consulting experts - why should they talk to s...\n",
       "Name: Title, dtype: object"
      ]
     },
     "execution_count": 90,
     "metadata": {},
     "output_type": "execute_result"
    }
   ],
   "source": [
    "notnull_titles = writers[writers[\"Title\"].notnull()][\"Title\"]\n",
    "notnull_titles.sample(5)"
   ]
  },
  {
   "cell_type": "code",
   "execution_count": 128,
   "metadata": {},
   "outputs": [
    {
     "name": "stdout",
     "output_type": "stream",
     "text": [
      "(175,)\n"
     ]
    },
    {
     "data": {
      "text/plain": [
       "33508     Reference of plots\n",
       "36588     Am I a new writer?\n",
       "9216     When opening a book\n",
       "2494     English writers IDE\n",
       "19238     Thriller sub-genre\n",
       "Name: Title, dtype: object"
      ]
     },
     "execution_count": 128,
     "metadata": {},
     "output_type": "execute_result"
    }
   ],
   "source": [
    "short_titles = notnull_titles[notnull_titles.str.len() < 20]\n",
    "print(short_titles.shape)short_titles.sample(5)\n"
   ]
  },
  {
   "cell_type": "code",
   "execution_count": 124,
   "metadata": {},
   "outputs": [
    {
     "name": "stdout",
     "output_type": "stream",
     "text": [
      "(87,)\n"
     ]
    },
    {
     "data": {
      "text/plain": [
       "3375     \\n\n",
       "41195      \n",
       "11794      \n",
       "7502       \n",
       "Name: body_text, dtype: object"
      ]
     },
     "execution_count": 124,
     "metadata": {},
     "output_type": "execute_result"
    }
   ],
   "source": [
    "no_body_text = writers[writers[\"body_text\"].str.len() < 15][\"body_text\"]\n",
    "print(no_body_text.shape)\n",
    "no_body_text.sort_values(ascending=False).head(4)"
   ]
  },
  {
   "cell_type": "code",
   "execution_count": 121,
   "metadata": {},
   "outputs": [
    {
     "name": "stdout",
     "output_type": "stream",
     "text": [
      "(41630,)\n"
     ]
    },
    {
     "data": {
      "text/plain": [
       "17600    “Where do you get your inspiration?” \\nThis is an often hated, and feared, Q author’s get. Their...\n",
       "8343     “Out, Out—” has its morbid description of a young boy bleeding out and its underlying theme of d...\n",
       "24097    “One should try to invite people from this world to eternity, from sin to obedience, from greedi...\n",
       "10069    “If once a man indulges himself in murder, very soon he comes to think little of robbing; and fr...\n",
       "Name: body_text, dtype: object"
      ]
     },
     "execution_count": 121,
     "metadata": {},
     "output_type": "execute_result"
    }
   ],
   "source": [
    "body_text = writers[writers[\"body_text\"].str.len() > 15][\"body_text\"]\n",
    "print(body_text.shape)\n",
    "body_text.sort_values(ascending=False).head(4)"
   ]
  },
  {
   "cell_type": "code",
   "execution_count": 129,
   "metadata": {},
   "outputs": [
    {
     "name": "stdout",
     "output_type": "stream",
     "text": [
      "(53,)\n"
     ]
    },
    {
     "data": {
      "text/plain": [
       "2523       what about\\n\\nInformation IS Power\\n\\n\n",
       "30953    it's called \"as if told\" first person.\\n\n",
       "2452                 help! I need somebody, help!\n",
       "2658         You can write however you want to.\\n\n",
       "Name: body_text, dtype: object"
      ]
     },
     "execution_count": 129,
     "metadata": {},
     "output_type": "execute_result"
    }
   ],
   "source": [
    "short_body_text = writers[(writers[\"body_text\"].str.len() > 15) & (writers[\"body_text\"].str.len() < 40)][\"body_text\"]\n",
    "print(short_body_text.shape)\n",
    "short_body_text.sort_values(ascending=False).head(4)"
   ]
  },
  {
   "cell_type": "markdown",
   "metadata": {},
   "source": [
    "The dataset has 41717 posts. Some initial observations:\n",
    "\n",
    "- As per `AcceptedAnswerId` a significant number of those questions have no accepted answers\n",
    "- A significant number have not been viewed either (or there was no data for those posts). \n",
    "- Very few have a title, but all of them have some body text. This doesn't seem right. Shouldn't all posts have titles?"
   ]
  }
 ],
 "metadata": {
  "kernelspec": {
   "display_name": "Python 3",
   "language": "python",
   "name": "python3"
  },
  "language_info": {
   "codemirror_mode": {
    "name": "ipython",
    "version": 3
   },
   "file_extension": ".py",
   "mimetype": "text/x-python",
   "name": "python",
   "nbconvert_exporter": "python",
   "pygments_lexer": "ipython3",
   "version": "3.7.3"
  },
  "widgets": {
   "state": {},
   "version": "1.1.2"
  }
 },
 "nbformat": 4,
 "nbformat_minor": 1
}
